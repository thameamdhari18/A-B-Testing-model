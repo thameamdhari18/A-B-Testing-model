{
 "cells": [
  {
   "cell_type": "code",
   "execution_count": 7,
   "metadata": {},
   "outputs": [
    {
     "name": "stdout",
     "output_type": "stream",
     "text": [
      "<class 'pandas.core.frame.DataFrame'>\n",
      "RangeIndex: 10000 entries, 0 to 9999\n",
      "Data columns (total 3 columns):\n",
      " #   Column        Non-Null Count  Dtype  \n",
      "---  ------        --------------  -----  \n",
      " 0   USER_ID       10000 non-null  int64  \n",
      " 1   VARIANT_NAME  10000 non-null  object \n",
      " 2   REVENUE       10000 non-null  float64\n",
      "dtypes: float64(1), int64(1), object(1)\n",
      "memory usage: 234.5+ KB\n",
      "USER_ID         0\n",
      "VARIANT_NAME    0\n",
      "REVENUE         0\n",
      "dtype: int64\n",
      "VARIANT_NAME\n",
      "variant    5016\n",
      "control    4984\n",
      "Name: count, dtype: int64\n",
      "USER_ID\n",
      "5652    6\n",
      "8359    6\n",
      "668     6\n",
      "9101    6\n",
      "4879    6\n",
      "       ..\n",
      "5455    1\n",
      "1399    1\n",
      "6967    1\n",
      "3156    1\n",
      "9468    1\n",
      "Name: count, Length: 6324, dtype: int64\n",
      "Test statistics for control data (Shapiro-Wilk): 0.022 and p-value: 0.0\n",
      "Test statistics for test data (Shapiro-Wilk): 0.03267 and p-value: 0.0\n",
      "Test statistics for Mann-Whitney U test: 7882388.0 and p-value: 0.5128877468183902\n"
     ]
    }
   ],
   "source": [
    "import pandas as pd\n",
    "import seaborn as sns\n",
    "import matplotlib.pyplot as plt\n",
    "import scipy.stats as st\n",
    "import statsmodels.stats.api as sms\n",
    "import warnings\n",
    "\n",
    "warnings.filterwarnings('ignore')\n",
    "%matplotlib inline\n",
    "\n",
    "# Read data\n",
    "df = pd.read_csv('C:\\\\Users\\\\thame\\\\Downloads\\\\AB_Test_Results.csv')\n",
    "\n",
    "# Data Cleaning\n",
    "df['VARIANT_NAME'].unique()\n",
    "df.info()\n",
    "print(df.isnull().sum())\n",
    "print(df['VARIANT_NAME'].value_counts())  # Corrected typo\n",
    "print(df['USER_ID'].value_counts(ascending=False))  # Corrected column name and added ascending=False\n",
    "\n",
    "df.drop_duplicates(inplace=True)\n",
    "\n",
    "control = df[df['VARIANT_NAME'] == 'control']\n",
    "test = df[df['VARIANT_NAME'] == 'variant']  # Corrected typo\n",
    "\n",
    "# Statistical Analysis\n",
    "t_stat_control, p_value_control = st.shapiro(control['REVENUE'])\n",
    "print(f'Test statistics for control data (Shapiro-Wilk): {round(t_stat_control, 4)} and p-value: {p_value_control}')\n",
    "\n",
    "t_stat_test, p_value_test = st.shapiro(test['REVENUE'])\n",
    "print(f'Test statistics for test data (Shapiro-Wilk): {round(t_stat_test, 5)} and p-value: {p_value_test}')\n",
    "\n",
    "t_stat_mannwhitneyu, p_value_mannwhitneyu = st.mannwhitneyu(control['REVENUE'], test['REVENUE'])\n",
    "print(f'Test statistics for Mann-Whitney U test: {t_stat_mannwhitneyu} and p-value: {p_value_mannwhitneyu}')\n"
   ]
  }
 ],
 "metadata": {
  "kernelspec": {
   "display_name": "Python 3",
   "language": "python",
   "name": "python3"
  },
  "language_info": {
   "codemirror_mode": {
    "name": "ipython",
    "version": 3
   },
   "file_extension": ".py",
   "mimetype": "text/x-python",
   "name": "python",
   "nbconvert_exporter": "python",
   "pygments_lexer": "ipython3",
   "version": "3.11.5"
  }
 },
 "nbformat": 4,
 "nbformat_minor": 2
}
